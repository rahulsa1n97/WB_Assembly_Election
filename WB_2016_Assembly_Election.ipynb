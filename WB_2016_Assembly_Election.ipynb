{
 "cells": [
  {
   "cell_type": "markdown",
   "metadata": {},
   "source": [
    "# Import liberies and dataset"
   ]
  },
  {
   "cell_type": "code",
   "execution_count": 5,
   "metadata": {},
   "outputs": [],
   "source": [
    "import pandas as pd\n",
    "import numpy as np\n",
    "import matplotlib.pyplot as plt\n",
    "%matplotlib inline\n",
    "import seaborn as sns"
   ]
  },
  {
   "cell_type": "code",
   "execution_count": 80,
   "metadata": {},
   "outputs": [],
   "source": [
    "data = pd.read_excel(\".\\\\Downloads\\\\Detailed Results.xlsx\")"
   ]
  },
  {
   "cell_type": "code",
   "execution_count": 81,
   "metadata": {},
   "outputs": [
    {
     "data": {
      "text/html": [
       "<div>\n",
       "<style scoped>\n",
       "    .dataframe tbody tr th:only-of-type {\n",
       "        vertical-align: middle;\n",
       "    }\n",
       "\n",
       "    .dataframe tbody tr th {\n",
       "        vertical-align: top;\n",
       "    }\n",
       "\n",
       "    .dataframe thead th {\n",
       "        text-align: right;\n",
       "    }\n",
       "</style>\n",
       "<table border=\"1\" class=\"dataframe\">\n",
       "  <thead>\n",
       "    <tr style=\"text-align: right;\">\n",
       "      <th></th>\n",
       "      <th>Constituency No.</th>\n",
       "      <th>Constituency Name</th>\n",
       "      <th>Candidate Name</th>\n",
       "      <th>Candidate Sex</th>\n",
       "      <th>Candidate Age</th>\n",
       "      <th>Candidate Category</th>\n",
       "      <th>Party Name</th>\n",
       "      <th>VALID VOTES POLLED in General</th>\n",
       "      <th>VALID VOTES POLLED in Postal</th>\n",
       "      <th>Total Valid Votes</th>\n",
       "      <th>Total Electors</th>\n",
       "      <th>Total Votes</th>\n",
       "      <th>Rank</th>\n",
       "    </tr>\n",
       "  </thead>\n",
       "  <tbody>\n",
       "    <tr>\n",
       "      <th>0</th>\n",
       "      <td>1</td>\n",
       "      <td>Mekliganj</td>\n",
       "      <td>ARGHYA ROY PRADHAN (BILU)</td>\n",
       "      <td>M</td>\n",
       "      <td>44.0</td>\n",
       "      <td>SC</td>\n",
       "      <td>AITC</td>\n",
       "      <td>74608</td>\n",
       "      <td>215</td>\n",
       "      <td>74823</td>\n",
       "      <td>202689</td>\n",
       "      <td>180960</td>\n",
       "      <td>1.0</td>\n",
       "    </tr>\n",
       "    <tr>\n",
       "      <th>1</th>\n",
       "      <td>1</td>\n",
       "      <td>Mekliganj</td>\n",
       "      <td>PARESH CHANDRA ADHIKARY</td>\n",
       "      <td>M</td>\n",
       "      <td>63.0</td>\n",
       "      <td>SC</td>\n",
       "      <td>AIFB</td>\n",
       "      <td>67821</td>\n",
       "      <td>365</td>\n",
       "      <td>68186</td>\n",
       "      <td>202689</td>\n",
       "      <td>180960</td>\n",
       "      <td>2.0</td>\n",
       "    </tr>\n",
       "    <tr>\n",
       "      <th>2</th>\n",
       "      <td>1</td>\n",
       "      <td>Mekliganj</td>\n",
       "      <td>DADHIRAM RAY</td>\n",
       "      <td>M</td>\n",
       "      <td>32.0</td>\n",
       "      <td>SC</td>\n",
       "      <td>BJP</td>\n",
       "      <td>23313</td>\n",
       "      <td>42</td>\n",
       "      <td>23355</td>\n",
       "      <td>202689</td>\n",
       "      <td>180960</td>\n",
       "      <td>3.0</td>\n",
       "    </tr>\n",
       "    <tr>\n",
       "      <th>3</th>\n",
       "      <td>1</td>\n",
       "      <td>Mekliganj</td>\n",
       "      <td>JYOTISH ROY</td>\n",
       "      <td>M</td>\n",
       "      <td>66.0</td>\n",
       "      <td>SC</td>\n",
       "      <td>BSP</td>\n",
       "      <td>5650</td>\n",
       "      <td>0</td>\n",
       "      <td>5650</td>\n",
       "      <td>202689</td>\n",
       "      <td>180960</td>\n",
       "      <td>NaN</td>\n",
       "    </tr>\n",
       "    <tr>\n",
       "      <th>4</th>\n",
       "      <td>1</td>\n",
       "      <td>Mekliganj</td>\n",
       "      <td>None of the Above</td>\n",
       "      <td>NaN</td>\n",
       "      <td>NaN</td>\n",
       "      <td>NaN</td>\n",
       "      <td>NOTA</td>\n",
       "      <td>2331</td>\n",
       "      <td>2</td>\n",
       "      <td>2333</td>\n",
       "      <td>202689</td>\n",
       "      <td>180960</td>\n",
       "      <td>NaN</td>\n",
       "    </tr>\n",
       "  </tbody>\n",
       "</table>\n",
       "</div>"
      ],
      "text/plain": [
       "   Constituency No. Constituency Name             Candidate Name  \\\n",
       "0                 1         Mekliganj  ARGHYA ROY PRADHAN (BILU)   \n",
       "1                 1         Mekliganj    PARESH CHANDRA ADHIKARY   \n",
       "2                 1         Mekliganj               DADHIRAM RAY   \n",
       "3                 1         Mekliganj                JYOTISH ROY   \n",
       "4                 1         Mekliganj          None of the Above   \n",
       "\n",
       "  Candidate Sex  Candidate Age Candidate Category  Party Name  \\\n",
       "0             M           44.0                 SC        AITC   \n",
       "1             M           63.0                 SC        AIFB   \n",
       "2             M           32.0                 SC         BJP   \n",
       "3             M           66.0                 SC         BSP   \n",
       "4           NaN            NaN                NaN        NOTA   \n",
       "\n",
       "    VALID VOTES POLLED in General   VALID VOTES POLLED in Postal  \\\n",
       "0                           74608                            215   \n",
       "1                           67821                            365   \n",
       "2                           23313                             42   \n",
       "3                            5650                              0   \n",
       "4                            2331                              2   \n",
       "\n",
       "    Total Valid Votes  Total Electors  Total Votes  Rank  \n",
       "0               74823          202689       180960   1.0  \n",
       "1               68186          202689       180960   2.0  \n",
       "2               23355          202689       180960   3.0  \n",
       "3                5650          202689       180960   NaN  \n",
       "4                2333          202689       180960   NaN  "
      ]
     },
     "execution_count": 81,
     "metadata": {},
     "output_type": "execute_result"
    }
   ],
   "source": [
    "data.head()"
   ]
  },
  {
   "cell_type": "code",
   "execution_count": 82,
   "metadata": {},
   "outputs": [
    {
     "data": {
      "text/plain": [
       "(2255, 13)"
      ]
     },
     "execution_count": 82,
     "metadata": {},
     "output_type": "execute_result"
    }
   ],
   "source": [
    "data.shape"
   ]
  },
  {
   "cell_type": "code",
   "execution_count": 83,
   "metadata": {},
   "outputs": [
    {
     "data": {
      "text/plain": [
       "Constituency No.                     0\n",
       "Constituency Name                    0\n",
       "Candidate Name                       0\n",
       "Candidate Sex                      294\n",
       "Candidate Age                      294\n",
       "Candidate Category                 294\n",
       " Party Name                          0\n",
       " VALID VOTES POLLED in General       0\n",
       " VALID VOTES POLLED in Postal        0\n",
       " Total Valid Votes                   0\n",
       "Total Electors                       0\n",
       "Total Votes                          0\n",
       "Rank                              1379\n",
       "dtype: int64"
      ]
     },
     "execution_count": 83,
     "metadata": {},
     "output_type": "execute_result"
    }
   ],
   "source": [
    "data.isna().sum()"
   ]
  },
  {
   "cell_type": "code",
   "execution_count": 84,
   "metadata": {},
   "outputs": [],
   "source": [
    "data1 = data.dropna()"
   ]
  },
  {
   "cell_type": "code",
   "execution_count": 85,
   "metadata": {},
   "outputs": [
    {
     "data": {
      "text/html": [
       "<div>\n",
       "<style scoped>\n",
       "    .dataframe tbody tr th:only-of-type {\n",
       "        vertical-align: middle;\n",
       "    }\n",
       "\n",
       "    .dataframe tbody tr th {\n",
       "        vertical-align: top;\n",
       "    }\n",
       "\n",
       "    .dataframe thead th {\n",
       "        text-align: right;\n",
       "    }\n",
       "</style>\n",
       "<table border=\"1\" class=\"dataframe\">\n",
       "  <thead>\n",
       "    <tr style=\"text-align: right;\">\n",
       "      <th></th>\n",
       "      <th>Constituency No.</th>\n",
       "      <th>Constituency Name</th>\n",
       "      <th>Candidate Name</th>\n",
       "      <th>Candidate Sex</th>\n",
       "      <th>Candidate Age</th>\n",
       "      <th>Candidate Category</th>\n",
       "      <th>Party Name</th>\n",
       "      <th>VALID VOTES POLLED in General</th>\n",
       "      <th>VALID VOTES POLLED in Postal</th>\n",
       "      <th>Total Valid Votes</th>\n",
       "      <th>Total Electors</th>\n",
       "      <th>Total Votes</th>\n",
       "      <th>Rank</th>\n",
       "    </tr>\n",
       "  </thead>\n",
       "  <tbody>\n",
       "    <tr>\n",
       "      <th>0</th>\n",
       "      <td>1</td>\n",
       "      <td>Mekliganj</td>\n",
       "      <td>ARGHYA ROY PRADHAN (BILU)</td>\n",
       "      <td>M</td>\n",
       "      <td>44.0</td>\n",
       "      <td>SC</td>\n",
       "      <td>AITC</td>\n",
       "      <td>74608</td>\n",
       "      <td>215</td>\n",
       "      <td>74823</td>\n",
       "      <td>202689</td>\n",
       "      <td>180960</td>\n",
       "      <td>1.0</td>\n",
       "    </tr>\n",
       "    <tr>\n",
       "      <th>1</th>\n",
       "      <td>1</td>\n",
       "      <td>Mekliganj</td>\n",
       "      <td>PARESH CHANDRA ADHIKARY</td>\n",
       "      <td>M</td>\n",
       "      <td>63.0</td>\n",
       "      <td>SC</td>\n",
       "      <td>AIFB</td>\n",
       "      <td>67821</td>\n",
       "      <td>365</td>\n",
       "      <td>68186</td>\n",
       "      <td>202689</td>\n",
       "      <td>180960</td>\n",
       "      <td>2.0</td>\n",
       "    </tr>\n",
       "    <tr>\n",
       "      <th>2</th>\n",
       "      <td>1</td>\n",
       "      <td>Mekliganj</td>\n",
       "      <td>DADHIRAM RAY</td>\n",
       "      <td>M</td>\n",
       "      <td>32.0</td>\n",
       "      <td>SC</td>\n",
       "      <td>BJP</td>\n",
       "      <td>23313</td>\n",
       "      <td>42</td>\n",
       "      <td>23355</td>\n",
       "      <td>202689</td>\n",
       "      <td>180960</td>\n",
       "      <td>3.0</td>\n",
       "    </tr>\n",
       "    <tr>\n",
       "      <th>10</th>\n",
       "      <td>2</td>\n",
       "      <td>Mathabhanga</td>\n",
       "      <td>BINAY KRISHNA BARMAN</td>\n",
       "      <td>M</td>\n",
       "      <td>55.0</td>\n",
       "      <td>SC</td>\n",
       "      <td>AITC</td>\n",
       "      <td>95913</td>\n",
       "      <td>470</td>\n",
       "      <td>96383</td>\n",
       "      <td>229622</td>\n",
       "      <td>200385</td>\n",
       "      <td>1.0</td>\n",
       "    </tr>\n",
       "    <tr>\n",
       "      <th>11</th>\n",
       "      <td>2</td>\n",
       "      <td>Mathabhanga</td>\n",
       "      <td>KHAGEN CHANDRA BARMAN</td>\n",
       "      <td>M</td>\n",
       "      <td>53.0</td>\n",
       "      <td>SC</td>\n",
       "      <td>CPM</td>\n",
       "      <td>63761</td>\n",
       "      <td>704</td>\n",
       "      <td>64465</td>\n",
       "      <td>229622</td>\n",
       "      <td>200385</td>\n",
       "      <td>2.0</td>\n",
       "    </tr>\n",
       "  </tbody>\n",
       "</table>\n",
       "</div>"
      ],
      "text/plain": [
       "    Constituency No. Constituency Name             Candidate Name  \\\n",
       "0                  1         Mekliganj  ARGHYA ROY PRADHAN (BILU)   \n",
       "1                  1         Mekliganj    PARESH CHANDRA ADHIKARY   \n",
       "2                  1         Mekliganj               DADHIRAM RAY   \n",
       "10                 2       Mathabhanga       BINAY KRISHNA BARMAN   \n",
       "11                 2       Mathabhanga      KHAGEN CHANDRA BARMAN   \n",
       "\n",
       "   Candidate Sex  Candidate Age Candidate Category  Party Name  \\\n",
       "0              M           44.0                 SC        AITC   \n",
       "1              M           63.0                 SC        AIFB   \n",
       "2              M           32.0                 SC         BJP   \n",
       "10             M           55.0                 SC        AITC   \n",
       "11             M           53.0                 SC         CPM   \n",
       "\n",
       "     VALID VOTES POLLED in General   VALID VOTES POLLED in Postal  \\\n",
       "0                            74608                            215   \n",
       "1                            67821                            365   \n",
       "2                            23313                             42   \n",
       "10                           95913                            470   \n",
       "11                           63761                            704   \n",
       "\n",
       "     Total Valid Votes  Total Electors  Total Votes  Rank  \n",
       "0                74823          202689       180960   1.0  \n",
       "1                68186          202689       180960   2.0  \n",
       "2                23355          202689       180960   3.0  \n",
       "10               96383          229622       200385   1.0  \n",
       "11               64465          229622       200385   2.0  "
      ]
     },
     "execution_count": 85,
     "metadata": {},
     "output_type": "execute_result"
    }
   ],
   "source": [
    "data1.head()"
   ]
  },
  {
   "cell_type": "code",
   "execution_count": 86,
   "metadata": {},
   "outputs": [
    {
     "data": {
      "text/plain": [
       "Constituency No.                  0\n",
       "Constituency Name                 0\n",
       "Candidate Name                    0\n",
       "Candidate Sex                     0\n",
       "Candidate Age                     0\n",
       "Candidate Category                0\n",
       " Party Name                       0\n",
       " VALID VOTES POLLED in General    0\n",
       " VALID VOTES POLLED in Postal     0\n",
       " Total Valid Votes                0\n",
       "Total Electors                    0\n",
       "Total Votes                       0\n",
       "Rank                              0\n",
       "dtype: int64"
      ]
     },
     "execution_count": 86,
     "metadata": {},
     "output_type": "execute_result"
    }
   ],
   "source": [
    "data1.isna().sum()"
   ]
  },
  {
   "cell_type": "markdown",
   "metadata": {},
   "source": [
    "## Male Female ratio of winning  "
   ]
  },
  {
   "cell_type": "code",
   "execution_count": 87,
   "metadata": {},
   "outputs": [
    {
     "data": {
      "text/plain": [
       "array(['M', 'F'], dtype=object)"
      ]
     },
     "execution_count": 87,
     "metadata": {},
     "output_type": "execute_result"
    }
   ],
   "source": [
    "data1['Candidate Sex'].unique()"
   ]
  },
  {
   "cell_type": "code",
   "execution_count": 88,
   "metadata": {
    "scrolled": true
   },
   "outputs": [
    {
     "data": {
      "text/plain": [
       "<matplotlib.axes._subplots.AxesSubplot at 0x250f1ebf548>"
      ]
     },
     "execution_count": 88,
     "metadata": {},
     "output_type": "execute_result"
    },
    {
     "data": {
      "image/png": "[encoded data removed]",
      "text/plain": [
       "<Figure size 432x288 with 1 Axes>"
      ]
     },
     "metadata": {
      "needs_background": "light"
     },
     "output_type": "display_data"
    }
   ],
   "source": [
    "sns.countplot(x=\"Candidate Sex\", data=data1)"
   ]
  },
  {
   "cell_type": "markdown",
   "metadata": {},
   "source": [
    "###  Category wise winning analysis"
   ]
  },
  {
   "cell_type": "code",
   "execution_count": 89,
   "metadata": {},
   "outputs": [
    {
     "data": {
      "text/plain": [
       "array(['SC', 'GEN', 'ST'], dtype=object)"
      ]
     },
     "execution_count": 89,
     "metadata": {},
     "output_type": "execute_result"
    }
   ],
   "source": [
    "data1['Candidate Category'].unique()"
   ]
  },
  {
   "cell_type": "code",
   "execution_count": 90,
   "metadata": {},
   "outputs": [
    {
     "data": {
      "text/plain": [
       "<matplotlib.axes._subplots.AxesSubplot at 0x250f1d77448>"
      ]
     },
     "execution_count": 90,
     "metadata": {},
     "output_type": "execute_result"
    },
    {
     "data": {
      "image/png": "[encoded data removed]",
      "text/plain": [
       "<Figure size 432x288 with 1 Axes>"
      ]
     },
     "metadata": {
      "needs_background": "light"
     },
     "output_type": "display_data"
    }
   ],
   "source": [
    "sns.countplot(x=\"Candidate Category\", data=data1)"
   ]
  },
  {
   "cell_type": "markdown",
   "metadata": {},
   "source": [
    "### Partiy wise winning analysis"
   ]
  },
  {
   "cell_type": "code",
   "execution_count": 91,
   "metadata": {},
   "outputs": [
    {
     "data": {
      "text/plain": [
       "array(['AITC', 'AIFB', 'BJP', 'CPM', 'INC', 'RSP', 'GOJAM', 'IND', 'CPI',\n",
       "       'SUCI', 'RJD', 'JD(S)', 'JD(U)', 'NCP', 'DSP(P)', 'JKP(N)'],\n",
       "      dtype=object)"
      ]
     },
     "execution_count": 91,
     "metadata": {},
     "output_type": "execute_result"
    }
   ],
   "source": [
    "data1[' Party Name'].unique()"
   ]
  },
  {
   "cell_type": "code",
   "execution_count": 92,
   "metadata": {
    "scrolled": false
   },
   "outputs": [
    {
     "data": {
      "text/plain": [
       "<matplotlib.axes._subplots.AxesSubplot at 0x250f1e2ab08>"
      ]
     },
     "execution_count": 92,
     "metadata": {},
     "output_type": "execute_result"
    },
    {
     "data": {
      "image/png": "[encoded data removed]",
      "text/plain": [
       "<Figure size 936x360 with 1 Axes>"
      ]
     },
     "metadata": {
      "needs_background": "light"
     },
     "output_type": "display_data"
    }
   ],
   "source": [
    "plt.figure(figsize =(13,5) )\n",
    "sns.countplot(x=\" Party Name\", data=data1)"
   ]
  },
  {
   "cell_type": "code",
   "execution_count": 93,
   "metadata": {},
   "outputs": [],
   "source": [
    "df1 = data1[data1['Rank']==1]"
   ]
  },
  {
   "cell_type": "code",
   "execution_count": 94,
   "metadata": {},
   "outputs": [
    {
     "data": {
      "text/html": [
       "<div>\n",
       "<style scoped>\n",
       "    .dataframe tbody tr th:only-of-type {\n",
       "        vertical-align: middle;\n",
       "    }\n",
       "\n",
       "    .dataframe tbody tr th {\n",
       "        vertical-align: top;\n",
       "    }\n",
       "\n",
       "    .dataframe thead th {\n",
       "        text-align: right;\n",
       "    }\n",
       "</style>\n",
       "<table border=\"1\" class=\"dataframe\">\n",
       "  <thead>\n",
       "    <tr style=\"text-align: right;\">\n",
       "      <th></th>\n",
       "      <th>Constituency No.</th>\n",
       "      <th>Constituency Name</th>\n",
       "      <th>Candidate Name</th>\n",
       "      <th>Candidate Sex</th>\n",
       "      <th>Candidate Age</th>\n",
       "      <th>Candidate Category</th>\n",
       "      <th>Party Name</th>\n",
       "      <th>VALID VOTES POLLED in General</th>\n",
       "      <th>VALID VOTES POLLED in Postal</th>\n",
       "      <th>Total Valid Votes</th>\n",
       "      <th>Total Electors</th>\n",
       "      <th>Total Votes</th>\n",
       "      <th>Rank</th>\n",
       "    </tr>\n",
       "  </thead>\n",
       "  <tbody>\n",
       "    <tr>\n",
       "      <th>0</th>\n",
       "      <td>1</td>\n",
       "      <td>Mekliganj</td>\n",
       "      <td>ARGHYA ROY PRADHAN (BILU)</td>\n",
       "      <td>M</td>\n",
       "      <td>44.0</td>\n",
       "      <td>SC</td>\n",
       "      <td>AITC</td>\n",
       "      <td>74608</td>\n",
       "      <td>215</td>\n",
       "      <td>74823</td>\n",
       "      <td>202689</td>\n",
       "      <td>180960</td>\n",
       "      <td>1.0</td>\n",
       "    </tr>\n",
       "    <tr>\n",
       "      <th>10</th>\n",
       "      <td>2</td>\n",
       "      <td>Mathabhanga</td>\n",
       "      <td>BINAY KRISHNA BARMAN</td>\n",
       "      <td>M</td>\n",
       "      <td>55.0</td>\n",
       "      <td>SC</td>\n",
       "      <td>AITC</td>\n",
       "      <td>95913</td>\n",
       "      <td>470</td>\n",
       "      <td>96383</td>\n",
       "      <td>229622</td>\n",
       "      <td>200385</td>\n",
       "      <td>1.0</td>\n",
       "    </tr>\n",
       "    <tr>\n",
       "      <th>19</th>\n",
       "      <td>3</td>\n",
       "      <td>Cooch Behar Uttar</td>\n",
       "      <td>NAGENDRA NATH ROY</td>\n",
       "      <td>M</td>\n",
       "      <td>59.0</td>\n",
       "      <td>SC</td>\n",
       "      <td>AIFB</td>\n",
       "      <td>96681</td>\n",
       "      <td>948</td>\n",
       "      <td>97629</td>\n",
       "      <td>258722</td>\n",
       "      <td>223771</td>\n",
       "      <td>1.0</td>\n",
       "    </tr>\n",
       "    <tr>\n",
       "      <th>28</th>\n",
       "      <td>4</td>\n",
       "      <td>Cooch Behar Dakshin</td>\n",
       "      <td>MIHIR GOSWAMI</td>\n",
       "      <td>M</td>\n",
       "      <td>62.0</td>\n",
       "      <td>GEN</td>\n",
       "      <td>AITC</td>\n",
       "      <td>82317</td>\n",
       "      <td>532</td>\n",
       "      <td>82849</td>\n",
       "      <td>213162</td>\n",
       "      <td>179173</td>\n",
       "      <td>1.0</td>\n",
       "    </tr>\n",
       "    <tr>\n",
       "      <th>36</th>\n",
       "      <td>5</td>\n",
       "      <td>Sitalkuchi</td>\n",
       "      <td>HITEN BARMAN</td>\n",
       "      <td>M</td>\n",
       "      <td>66.0</td>\n",
       "      <td>SC</td>\n",
       "      <td>AITC</td>\n",
       "      <td>101360</td>\n",
       "      <td>287</td>\n",
       "      <td>101647</td>\n",
       "      <td>261348</td>\n",
       "      <td>230077</td>\n",
       "      <td>1.0</td>\n",
       "    </tr>\n",
       "  </tbody>\n",
       "</table>\n",
       "</div>"
      ],
      "text/plain": [
       "    Constituency No.    Constituency Name             Candidate Name  \\\n",
       "0                  1            Mekliganj  ARGHYA ROY PRADHAN (BILU)   \n",
       "10                 2          Mathabhanga       BINAY KRISHNA BARMAN   \n",
       "19                 3    Cooch Behar Uttar          NAGENDRA NATH ROY   \n",
       "28                 4  Cooch Behar Dakshin              MIHIR GOSWAMI   \n",
       "36                 5           Sitalkuchi               HITEN BARMAN   \n",
       "\n",
       "   Candidate Sex  Candidate Age Candidate Category  Party Name  \\\n",
       "0              M           44.0                 SC        AITC   \n",
       "10             M           55.0                 SC        AITC   \n",
       "19             M           59.0                 SC        AIFB   \n",
       "28             M           62.0                GEN        AITC   \n",
       "36             M           66.0                 SC        AITC   \n",
       "\n",
       "     VALID VOTES POLLED in General   VALID VOTES POLLED in Postal  \\\n",
       "0                            74608                            215   \n",
       "10                           95913                            470   \n",
       "19                           96681                            948   \n",
       "28                           82317                            532   \n",
       "36                          101360                            287   \n",
       "\n",
       "     Total Valid Votes  Total Electors  Total Votes  Rank  \n",
       "0                74823          202689       180960   1.0  \n",
       "10               96383          229622       200385   1.0  \n",
       "19               97629          258722       223771   1.0  \n",
       "28               82849          213162       179173   1.0  \n",
       "36              101647          261348       230077   1.0  "
      ]
     },
     "execution_count": 94,
     "metadata": {},
     "output_type": "execute_result"
    }
   ],
   "source": [
    "df1.head()"
   ]
  },
  {
   "cell_type": "markdown",
   "metadata": {},
   "source": [
    "### Parties with most winning"
   ]
  },
  {
   "cell_type": "code",
   "execution_count": 95,
   "metadata": {},
   "outputs": [
    {
     "data": {
      "text/plain": [
       "<matplotlib.axes._subplots.AxesSubplot at 0x250f1efbb48>"
      ]
     },
     "execution_count": 95,
     "metadata": {},
     "output_type": "execute_result"
    },
    {
     "data": {
      "image/png": "[encoded data removed]",
      "text/plain": [
       "<Figure size 936x360 with 1 Axes>"
      ]
     },
     "metadata": {
      "needs_background": "light"
     },
     "output_type": "display_data"
    }
   ],
   "source": [
    "plt.figure(figsize =(13,5) )\n",
    "sns.countplot(x=\" Party Name\", data=df1)"
   ]
  },
  {
   "cell_type": "code",
   "execution_count": 96,
   "metadata": {},
   "outputs": [
    {
     "data": {
      "text/html": [
       "<div>\n",
       "<style scoped>\n",
       "    .dataframe tbody tr th:only-of-type {\n",
       "        vertical-align: middle;\n",
       "    }\n",
       "\n",
       "    .dataframe tbody tr th {\n",
       "        vertical-align: top;\n",
       "    }\n",
       "\n",
       "    .dataframe thead th {\n",
       "        text-align: right;\n",
       "    }\n",
       "</style>\n",
       "<table border=\"1\" class=\"dataframe\">\n",
       "  <thead>\n",
       "    <tr style=\"text-align: right;\">\n",
       "      <th></th>\n",
       "      <th>Constituency No.</th>\n",
       "      <th>Constituency Name</th>\n",
       "      <th>Candidate Name</th>\n",
       "      <th>Candidate Sex</th>\n",
       "      <th>Candidate Age</th>\n",
       "      <th>Candidate Category</th>\n",
       "      <th>Party Name</th>\n",
       "      <th>VALID VOTES POLLED in General</th>\n",
       "      <th>VALID VOTES POLLED in Postal</th>\n",
       "      <th>Total Valid Votes</th>\n",
       "      <th>Total Electors</th>\n",
       "      <th>Total Votes</th>\n",
       "      <th>Rank</th>\n",
       "    </tr>\n",
       "  </thead>\n",
       "  <tbody>\n",
       "    <tr>\n",
       "      <th>1</th>\n",
       "      <td>1</td>\n",
       "      <td>Mekliganj</td>\n",
       "      <td>PARESH CHANDRA ADHIKARY</td>\n",
       "      <td>M</td>\n",
       "      <td>63.0</td>\n",
       "      <td>SC</td>\n",
       "      <td>AIFB</td>\n",
       "      <td>67821</td>\n",
       "      <td>365</td>\n",
       "      <td>68186</td>\n",
       "      <td>202689</td>\n",
       "      <td>180960</td>\n",
       "      <td>2.0</td>\n",
       "    </tr>\n",
       "    <tr>\n",
       "      <th>11</th>\n",
       "      <td>2</td>\n",
       "      <td>Mathabhanga</td>\n",
       "      <td>KHAGEN CHANDRA BARMAN</td>\n",
       "      <td>M</td>\n",
       "      <td>53.0</td>\n",
       "      <td>SC</td>\n",
       "      <td>CPM</td>\n",
       "      <td>63761</td>\n",
       "      <td>704</td>\n",
       "      <td>64465</td>\n",
       "      <td>229622</td>\n",
       "      <td>200385</td>\n",
       "      <td>2.0</td>\n",
       "    </tr>\n",
       "    <tr>\n",
       "      <th>20</th>\n",
       "      <td>3</td>\n",
       "      <td>Cooch Behar Uttar</td>\n",
       "      <td>PARIMAL BARMAN</td>\n",
       "      <td>M</td>\n",
       "      <td>39.0</td>\n",
       "      <td>SC</td>\n",
       "      <td>AITC</td>\n",
       "      <td>84782</td>\n",
       "      <td>554</td>\n",
       "      <td>85336</td>\n",
       "      <td>258722</td>\n",
       "      <td>223771</td>\n",
       "      <td>2.0</td>\n",
       "    </tr>\n",
       "    <tr>\n",
       "      <th>29</th>\n",
       "      <td>4</td>\n",
       "      <td>Cooch Behar Dakshin</td>\n",
       "      <td>DEBASIS BANIK</td>\n",
       "      <td>M</td>\n",
       "      <td>58.0</td>\n",
       "      <td>GEN</td>\n",
       "      <td>AIFB</td>\n",
       "      <td>63385</td>\n",
       "      <td>1269</td>\n",
       "      <td>64654</td>\n",
       "      <td>213162</td>\n",
       "      <td>179173</td>\n",
       "      <td>2.0</td>\n",
       "    </tr>\n",
       "    <tr>\n",
       "      <th>37</th>\n",
       "      <td>5</td>\n",
       "      <td>Sitalkuchi</td>\n",
       "      <td>NAMADIPTI ADHIKARY</td>\n",
       "      <td>F</td>\n",
       "      <td>48.0</td>\n",
       "      <td>SC</td>\n",
       "      <td>CPM</td>\n",
       "      <td>85746</td>\n",
       "      <td>418</td>\n",
       "      <td>86164</td>\n",
       "      <td>261348</td>\n",
       "      <td>230077</td>\n",
       "      <td>2.0</td>\n",
       "    </tr>\n",
       "  </tbody>\n",
       "</table>\n",
       "</div>"
      ],
      "text/plain": [
       "    Constituency No.    Constituency Name           Candidate Name  \\\n",
       "1                  1            Mekliganj  PARESH CHANDRA ADHIKARY   \n",
       "11                 2          Mathabhanga    KHAGEN CHANDRA BARMAN   \n",
       "20                 3    Cooch Behar Uttar           PARIMAL BARMAN   \n",
       "29                 4  Cooch Behar Dakshin            DEBASIS BANIK   \n",
       "37                 5           Sitalkuchi       NAMADIPTI ADHIKARY   \n",
       "\n",
       "   Candidate Sex  Candidate Age Candidate Category  Party Name  \\\n",
       "1              M           63.0                 SC        AIFB   \n",
       "11             M           53.0                 SC         CPM   \n",
       "20             M           39.0                 SC        AITC   \n",
       "29             M           58.0                GEN        AIFB   \n",
       "37             F           48.0                 SC         CPM   \n",
       "\n",
       "     VALID VOTES POLLED in General   VALID VOTES POLLED in Postal  \\\n",
       "1                            67821                            365   \n",
       "11                           63761                            704   \n",
       "20                           84782                            554   \n",
       "29                           63385                           1269   \n",
       "37                           85746                            418   \n",
       "\n",
       "     Total Valid Votes  Total Electors  Total Votes  Rank  \n",
       "1                68186          202689       180960   2.0  \n",
       "11               64465          229622       200385   2.0  \n",
       "20               85336          258722       223771   2.0  \n",
       "29               64654          213162       179173   2.0  \n",
       "37               86164          261348       230077   2.0  "
      ]
     },
     "execution_count": 96,
     "metadata": {},
     "output_type": "execute_result"
    }
   ],
   "source": [
    "df2 = data1[data1['Rank']==2]\n",
    "df2.head()"
   ]
  },
  {
   "cell_type": "markdown",
   "metadata": {},
   "source": [
    "### Parties with most runner_up"
   ]
  },
  {
   "cell_type": "code",
   "execution_count": 97,
   "metadata": {},
   "outputs": [
    {
     "data": {
      "text/plain": [
       "<matplotlib.axes._subplots.AxesSubplot at 0x250f1ef7b88>"
      ]
     },
     "execution_count": 97,
     "metadata": {},
     "output_type": "execute_result"
    },
    {
     "data": {
      "image/png": "[encoded data removed]",
      "text/plain": [
       "<Figure size 936x360 with 1 Axes>"
      ]
     },
     "metadata": {
      "needs_background": "light"
     },
     "output_type": "display_data"
    }
   ],
   "source": [
    "plt.figure(figsize =(13,5) )\n",
    "sns.countplot(x=\" Party Name\", data=df2)"
   ]
  },
  {
   "cell_type": "markdown",
   "metadata": {},
   "source": [
    "### Here we define a young leader with age 45 or lessthan"
   ]
  },
  {
   "cell_type": "code",
   "execution_count": 98,
   "metadata": {},
   "outputs": [],
   "source": [
    "df3 = data1[data1['Candidate Age']<=45]"
   ]
  },
  {
   "cell_type": "code",
   "execution_count": 99,
   "metadata": {},
   "outputs": [
    {
     "data": {
      "text/html": [
       "<div>\n",
       "<style scoped>\n",
       "    .dataframe tbody tr th:only-of-type {\n",
       "        vertical-align: middle;\n",
       "    }\n",
       "\n",
       "    .dataframe tbody tr th {\n",
       "        vertical-align: top;\n",
       "    }\n",
       "\n",
       "    .dataframe thead th {\n",
       "        text-align: right;\n",
       "    }\n",
       "</style>\n",
       "<table border=\"1\" class=\"dataframe\">\n",
       "  <thead>\n",
       "    <tr style=\"text-align: right;\">\n",
       "      <th></th>\n",
       "      <th>Constituency No.</th>\n",
       "      <th>Constituency Name</th>\n",
       "      <th>Candidate Name</th>\n",
       "      <th>Candidate Sex</th>\n",
       "      <th>Candidate Age</th>\n",
       "      <th>Candidate Category</th>\n",
       "      <th>Party Name</th>\n",
       "      <th>VALID VOTES POLLED in General</th>\n",
       "      <th>VALID VOTES POLLED in Postal</th>\n",
       "      <th>Total Valid Votes</th>\n",
       "      <th>Total Electors</th>\n",
       "      <th>Total Votes</th>\n",
       "      <th>Rank</th>\n",
       "    </tr>\n",
       "  </thead>\n",
       "  <tbody>\n",
       "    <tr>\n",
       "      <th>0</th>\n",
       "      <td>1</td>\n",
       "      <td>Mekliganj</td>\n",
       "      <td>ARGHYA ROY PRADHAN (BILU)</td>\n",
       "      <td>M</td>\n",
       "      <td>44.0</td>\n",
       "      <td>SC</td>\n",
       "      <td>AITC</td>\n",
       "      <td>74608</td>\n",
       "      <td>215</td>\n",
       "      <td>74823</td>\n",
       "      <td>202689</td>\n",
       "      <td>180960</td>\n",
       "      <td>1.0</td>\n",
       "    </tr>\n",
       "    <tr>\n",
       "      <th>2</th>\n",
       "      <td>1</td>\n",
       "      <td>Mekliganj</td>\n",
       "      <td>DADHIRAM RAY</td>\n",
       "      <td>M</td>\n",
       "      <td>32.0</td>\n",
       "      <td>SC</td>\n",
       "      <td>BJP</td>\n",
       "      <td>23313</td>\n",
       "      <td>42</td>\n",
       "      <td>23355</td>\n",
       "      <td>202689</td>\n",
       "      <td>180960</td>\n",
       "      <td>3.0</td>\n",
       "    </tr>\n",
       "    <tr>\n",
       "      <th>20</th>\n",
       "      <td>3</td>\n",
       "      <td>Cooch Behar Uttar</td>\n",
       "      <td>PARIMAL BARMAN</td>\n",
       "      <td>M</td>\n",
       "      <td>39.0</td>\n",
       "      <td>SC</td>\n",
       "      <td>AITC</td>\n",
       "      <td>84782</td>\n",
       "      <td>554</td>\n",
       "      <td>85336</td>\n",
       "      <td>258722</td>\n",
       "      <td>223771</td>\n",
       "      <td>2.0</td>\n",
       "    </tr>\n",
       "    <tr>\n",
       "      <th>38</th>\n",
       "      <td>5</td>\n",
       "      <td>Sitalkuchi</td>\n",
       "      <td>BAREN CHANDRA BARMAN</td>\n",
       "      <td>M</td>\n",
       "      <td>42.0</td>\n",
       "      <td>SC</td>\n",
       "      <td>BJP</td>\n",
       "      <td>27325</td>\n",
       "      <td>22</td>\n",
       "      <td>27347</td>\n",
       "      <td>261348</td>\n",
       "      <td>230077</td>\n",
       "      <td>3.0</td>\n",
       "    </tr>\n",
       "    <tr>\n",
       "      <th>77</th>\n",
       "      <td>10</td>\n",
       "      <td>Kumargram</td>\n",
       "      <td>MANOJ KUMAR ORAON</td>\n",
       "      <td>M</td>\n",
       "      <td>35.0</td>\n",
       "      <td>ST</td>\n",
       "      <td>RSP</td>\n",
       "      <td>71123</td>\n",
       "      <td>392</td>\n",
       "      <td>71515</td>\n",
       "      <td>243359</td>\n",
       "      <td>208406</td>\n",
       "      <td>2.0</td>\n",
       "    </tr>\n",
       "  </tbody>\n",
       "</table>\n",
       "</div>"
      ],
      "text/plain": [
       "    Constituency No.  Constituency Name             Candidate Name  \\\n",
       "0                  1          Mekliganj  ARGHYA ROY PRADHAN (BILU)   \n",
       "2                  1          Mekliganj               DADHIRAM RAY   \n",
       "20                 3  Cooch Behar Uttar             PARIMAL BARMAN   \n",
       "38                 5         Sitalkuchi       BAREN CHANDRA BARMAN   \n",
       "77                10          Kumargram          MANOJ KUMAR ORAON   \n",
       "\n",
       "   Candidate Sex  Candidate Age Candidate Category  Party Name  \\\n",
       "0              M           44.0                 SC        AITC   \n",
       "2              M           32.0                 SC         BJP   \n",
       "20             M           39.0                 SC        AITC   \n",
       "38             M           42.0                 SC         BJP   \n",
       "77             M           35.0                 ST         RSP   \n",
       "\n",
       "     VALID VOTES POLLED in General   VALID VOTES POLLED in Postal  \\\n",
       "0                            74608                            215   \n",
       "2                            23313                             42   \n",
       "20                           84782                            554   \n",
       "38                           27325                             22   \n",
       "77                           71123                            392   \n",
       "\n",
       "     Total Valid Votes  Total Electors  Total Votes  Rank  \n",
       "0                74823          202689       180960   1.0  \n",
       "2                23355          202689       180960   3.0  \n",
       "20               85336          258722       223771   2.0  \n",
       "38               27347          261348       230077   3.0  \n",
       "77               71515          243359       208406   2.0  "
      ]
     },
     "execution_count": 99,
     "metadata": {},
     "output_type": "execute_result"
    }
   ],
   "source": [
    "df3.head()"
   ]
  },
  {
   "cell_type": "markdown",
   "metadata": {},
   "source": [
    "### Parties with most young leader"
   ]
  },
  {
   "cell_type": "code",
   "execution_count": 101,
   "metadata": {},
   "outputs": [
    {
     "data": {
      "text/plain": [
       "<matplotlib.axes._subplots.AxesSubplot at 0x250f1d0c688>"
      ]
     },
     "execution_count": 101,
     "metadata": {},
     "output_type": "execute_result"
    },
    {
     "data": {
      "image/png": "[encoded data removed]",
      "text/plain": [
       "<Figure size 936x360 with 1 Axes>"
      ]
     },
     "metadata": {
      "needs_background": "light"
     },
     "output_type": "display_data"
    }
   ],
   "source": [
    "plt.figure(figsize =(13,5) )\n",
    "sns.countplot(x=\" Party Name\", data=df3)"
   ]
  },
  {
   "cell_type": "code",
   "execution_count": 102,
   "metadata": {},
   "outputs": [],
   "source": [
    "df4 = data1[data1['Candidate Sex']=='M']"
   ]
  },
  {
   "cell_type": "code",
   "execution_count": 103,
   "metadata": {},
   "outputs": [
    {
     "data": {
      "text/html": [
       "<div>\n",
       "<style scoped>\n",
       "    .dataframe tbody tr th:only-of-type {\n",
       "        vertical-align: middle;\n",
       "    }\n",
       "\n",
       "    .dataframe tbody tr th {\n",
       "        vertical-align: top;\n",
       "    }\n",
       "\n",
       "    .dataframe thead th {\n",
       "        text-align: right;\n",
       "    }\n",
       "</style>\n",
       "<table border=\"1\" class=\"dataframe\">\n",
       "  <thead>\n",
       "    <tr style=\"text-align: right;\">\n",
       "      <th></th>\n",
       "      <th>Constituency No.</th>\n",
       "      <th>Constituency Name</th>\n",
       "      <th>Candidate Name</th>\n",
       "      <th>Candidate Sex</th>\n",
       "      <th>Candidate Age</th>\n",
       "      <th>Candidate Category</th>\n",
       "      <th>Party Name</th>\n",
       "      <th>VALID VOTES POLLED in General</th>\n",
       "      <th>VALID VOTES POLLED in Postal</th>\n",
       "      <th>Total Valid Votes</th>\n",
       "      <th>Total Electors</th>\n",
       "      <th>Total Votes</th>\n",
       "      <th>Rank</th>\n",
       "    </tr>\n",
       "  </thead>\n",
       "  <tbody>\n",
       "    <tr>\n",
       "      <th>0</th>\n",
       "      <td>1</td>\n",
       "      <td>Mekliganj</td>\n",
       "      <td>ARGHYA ROY PRADHAN (BILU)</td>\n",
       "      <td>M</td>\n",
       "      <td>44.0</td>\n",
       "      <td>SC</td>\n",
       "      <td>AITC</td>\n",
       "      <td>74608</td>\n",
       "      <td>215</td>\n",
       "      <td>74823</td>\n",
       "      <td>202689</td>\n",
       "      <td>180960</td>\n",
       "      <td>1.0</td>\n",
       "    </tr>\n",
       "    <tr>\n",
       "      <th>1</th>\n",
       "      <td>1</td>\n",
       "      <td>Mekliganj</td>\n",
       "      <td>PARESH CHANDRA ADHIKARY</td>\n",
       "      <td>M</td>\n",
       "      <td>63.0</td>\n",
       "      <td>SC</td>\n",
       "      <td>AIFB</td>\n",
       "      <td>67821</td>\n",
       "      <td>365</td>\n",
       "      <td>68186</td>\n",
       "      <td>202689</td>\n",
       "      <td>180960</td>\n",
       "      <td>2.0</td>\n",
       "    </tr>\n",
       "    <tr>\n",
       "      <th>2</th>\n",
       "      <td>1</td>\n",
       "      <td>Mekliganj</td>\n",
       "      <td>DADHIRAM RAY</td>\n",
       "      <td>M</td>\n",
       "      <td>32.0</td>\n",
       "      <td>SC</td>\n",
       "      <td>BJP</td>\n",
       "      <td>23313</td>\n",
       "      <td>42</td>\n",
       "      <td>23355</td>\n",
       "      <td>202689</td>\n",
       "      <td>180960</td>\n",
       "      <td>3.0</td>\n",
       "    </tr>\n",
       "    <tr>\n",
       "      <th>10</th>\n",
       "      <td>2</td>\n",
       "      <td>Mathabhanga</td>\n",
       "      <td>BINAY KRISHNA BARMAN</td>\n",
       "      <td>M</td>\n",
       "      <td>55.0</td>\n",
       "      <td>SC</td>\n",
       "      <td>AITC</td>\n",
       "      <td>95913</td>\n",
       "      <td>470</td>\n",
       "      <td>96383</td>\n",
       "      <td>229622</td>\n",
       "      <td>200385</td>\n",
       "      <td>1.0</td>\n",
       "    </tr>\n",
       "    <tr>\n",
       "      <th>11</th>\n",
       "      <td>2</td>\n",
       "      <td>Mathabhanga</td>\n",
       "      <td>KHAGEN CHANDRA BARMAN</td>\n",
       "      <td>M</td>\n",
       "      <td>53.0</td>\n",
       "      <td>SC</td>\n",
       "      <td>CPM</td>\n",
       "      <td>63761</td>\n",
       "      <td>704</td>\n",
       "      <td>64465</td>\n",
       "      <td>229622</td>\n",
       "      <td>200385</td>\n",
       "      <td>2.0</td>\n",
       "    </tr>\n",
       "  </tbody>\n",
       "</table>\n",
       "</div>"
      ],
      "text/plain": [
       "    Constituency No. Constituency Name             Candidate Name  \\\n",
       "0                  1         Mekliganj  ARGHYA ROY PRADHAN (BILU)   \n",
       "1                  1         Mekliganj    PARESH CHANDRA ADHIKARY   \n",
       "2                  1         Mekliganj               DADHIRAM RAY   \n",
       "10                 2       Mathabhanga       BINAY KRISHNA BARMAN   \n",
       "11                 2       Mathabhanga      KHAGEN CHANDRA BARMAN   \n",
       "\n",
       "   Candidate Sex  Candidate Age Candidate Category  Party Name  \\\n",
       "0              M           44.0                 SC        AITC   \n",
       "1              M           63.0                 SC        AIFB   \n",
       "2              M           32.0                 SC         BJP   \n",
       "10             M           55.0                 SC        AITC   \n",
       "11             M           53.0                 SC         CPM   \n",
       "\n",
       "     VALID VOTES POLLED in General   VALID VOTES POLLED in Postal  \\\n",
       "0                            74608                            215   \n",
       "1                            67821                            365   \n",
       "2                            23313                             42   \n",
       "10                           95913                            470   \n",
       "11                           63761                            704   \n",
       "\n",
       "     Total Valid Votes  Total Electors  Total Votes  Rank  \n",
       "0                74823          202689       180960   1.0  \n",
       "1                68186          202689       180960   2.0  \n",
       "2                23355          202689       180960   3.0  \n",
       "10               96383          229622       200385   1.0  \n",
       "11               64465          229622       200385   2.0  "
      ]
     },
     "execution_count": 103,
     "metadata": {},
     "output_type": "execute_result"
    }
   ],
   "source": [
    "df4.head()"
   ]
  },
  {
   "cell_type": "markdown",
   "metadata": {},
   "source": [
    "### Parties with most male leaders"
   ]
  },
  {
   "cell_type": "code",
   "execution_count": 104,
   "metadata": {},
   "outputs": [
    {
     "data": {
      "text/plain": [
       "<matplotlib.axes._subplots.AxesSubplot at 0x250f1df8708>"
      ]
     },
     "execution_count": 104,
     "metadata": {},
     "output_type": "execute_result"
    },
    {
     "data": {
      "image/png": "[encoded data removed]",
      "text/plain": [
       "<Figure size 936x360 with 1 Axes>"
      ]
     },
     "metadata": {
      "needs_background": "light"
     },
     "output_type": "display_data"
    }
   ],
   "source": [
    "plt.figure(figsize =(13,5) )\n",
    "sns.countplot(x=\" Party Name\", data=df4)"
   ]
  },
  {
   "cell_type": "code",
   "execution_count": 105,
   "metadata": {},
   "outputs": [],
   "source": [
    "df5 = data1[data1['Candidate Sex']=='F']"
   ]
  },
  {
   "cell_type": "code",
   "execution_count": 106,
   "metadata": {},
   "outputs": [
    {
     "data": {
      "text/html": [
       "<div>\n",
       "<style scoped>\n",
       "    .dataframe tbody tr th:only-of-type {\n",
       "        vertical-align: middle;\n",
       "    }\n",
       "\n",
       "    .dataframe tbody tr th {\n",
       "        vertical-align: top;\n",
       "    }\n",
       "\n",
       "    .dataframe thead th {\n",
       "        text-align: right;\n",
       "    }\n",
       "</style>\n",
       "<table border=\"1\" class=\"dataframe\">\n",
       "  <thead>\n",
       "    <tr style=\"text-align: right;\">\n",
       "      <th></th>\n",
       "      <th>Constituency No.</th>\n",
       "      <th>Constituency Name</th>\n",
       "      <th>Candidate Name</th>\n",
       "      <th>Candidate Sex</th>\n",
       "      <th>Candidate Age</th>\n",
       "      <th>Candidate Category</th>\n",
       "      <th>Party Name</th>\n",
       "      <th>VALID VOTES POLLED in General</th>\n",
       "      <th>VALID VOTES POLLED in Postal</th>\n",
       "      <th>Total Valid Votes</th>\n",
       "      <th>Total Electors</th>\n",
       "      <th>Total Votes</th>\n",
       "      <th>Rank</th>\n",
       "    </tr>\n",
       "  </thead>\n",
       "  <tbody>\n",
       "    <tr>\n",
       "      <th>37</th>\n",
       "      <td>5</td>\n",
       "      <td>Sitalkuchi</td>\n",
       "      <td>NAMADIPTI ADHIKARY</td>\n",
       "      <td>F</td>\n",
       "      <td>48.0</td>\n",
       "      <td>SC</td>\n",
       "      <td>CPM</td>\n",
       "      <td>85746</td>\n",
       "      <td>418</td>\n",
       "      <td>86164</td>\n",
       "      <td>261348</td>\n",
       "      <td>230077</td>\n",
       "      <td>2.0</td>\n",
       "    </tr>\n",
       "    <tr>\n",
       "      <th>119</th>\n",
       "      <td>15</td>\n",
       "      <td>Dhupguri</td>\n",
       "      <td>MITALI ROY</td>\n",
       "      <td>F</td>\n",
       "      <td>43.0</td>\n",
       "      <td>SC</td>\n",
       "      <td>AITC</td>\n",
       "      <td>90603</td>\n",
       "      <td>178</td>\n",
       "      <td>90781</td>\n",
       "      <td>237427</td>\n",
       "      <td>208734</td>\n",
       "      <td>1.0</td>\n",
       "    </tr>\n",
       "    <tr>\n",
       "      <th>120</th>\n",
       "      <td>15</td>\n",
       "      <td>Dhupguri</td>\n",
       "      <td>MAMATA ROY</td>\n",
       "      <td>F</td>\n",
       "      <td>49.0</td>\n",
       "      <td>SC</td>\n",
       "      <td>CPM</td>\n",
       "      <td>71102</td>\n",
       "      <td>415</td>\n",
       "      <td>71517</td>\n",
       "      <td>237427</td>\n",
       "      <td>208734</td>\n",
       "      <td>2.0</td>\n",
       "    </tr>\n",
       "    <tr>\n",
       "      <th>127</th>\n",
       "      <td>16</td>\n",
       "      <td>Maynaguri</td>\n",
       "      <td>CHHAYA DEY (ROY)</td>\n",
       "      <td>F</td>\n",
       "      <td>58.0</td>\n",
       "      <td>SC</td>\n",
       "      <td>RSP</td>\n",
       "      <td>65470</td>\n",
       "      <td>460</td>\n",
       "      <td>65930</td>\n",
       "      <td>236663</td>\n",
       "      <td>210728</td>\n",
       "      <td>2.0</td>\n",
       "    </tr>\n",
       "    <tr>\n",
       "      <th>168</th>\n",
       "      <td>22</td>\n",
       "      <td>Kalimpong</td>\n",
       "      <td>SARITA RAI</td>\n",
       "      <td>F</td>\n",
       "      <td>57.0</td>\n",
       "      <td>GEN</td>\n",
       "      <td>GOJAM</td>\n",
       "      <td>67293</td>\n",
       "      <td>400</td>\n",
       "      <td>67693</td>\n",
       "      <td>193742</td>\n",
       "      <td>137985</td>\n",
       "      <td>1.0</td>\n",
       "    </tr>\n",
       "  </tbody>\n",
       "</table>\n",
       "</div>"
      ],
      "text/plain": [
       "     Constituency No. Constituency Name      Candidate Name Candidate Sex  \\\n",
       "37                  5        Sitalkuchi  NAMADIPTI ADHIKARY             F   \n",
       "119                15          Dhupguri          MITALI ROY             F   \n",
       "120                15          Dhupguri          MAMATA ROY             F   \n",
       "127                16         Maynaguri    CHHAYA DEY (ROY)             F   \n",
       "168                22         Kalimpong          SARITA RAI             F   \n",
       "\n",
       "     Candidate Age Candidate Category  Party Name  \\\n",
       "37            48.0                 SC         CPM   \n",
       "119           43.0                 SC        AITC   \n",
       "120           49.0                 SC         CPM   \n",
       "127           58.0                 SC         RSP   \n",
       "168           57.0                GEN       GOJAM   \n",
       "\n",
       "      VALID VOTES POLLED in General   VALID VOTES POLLED in Postal  \\\n",
       "37                            85746                            418   \n",
       "119                           90603                            178   \n",
       "120                           71102                            415   \n",
       "127                           65470                            460   \n",
       "168                           67293                            400   \n",
       "\n",
       "      Total Valid Votes  Total Electors  Total Votes  Rank  \n",
       "37                86164          261348       230077   2.0  \n",
       "119               90781          237427       208734   1.0  \n",
       "120               71517          237427       208734   2.0  \n",
       "127               65930          236663       210728   2.0  \n",
       "168               67693          193742       137985   1.0  "
      ]
     },
     "execution_count": 106,
     "metadata": {},
     "output_type": "execute_result"
    }
   ],
   "source": [
    "df5.head()"
   ]
  },
  {
   "cell_type": "markdown",
   "metadata": {},
   "source": [
    "### Parties with most female leader"
   ]
  },
  {
   "cell_type": "code",
   "execution_count": 107,
   "metadata": {},
   "outputs": [
    {
     "data": {
      "text/plain": [
       "<matplotlib.axes._subplots.AxesSubplot at 0x250f2051508>"
      ]
     },
     "execution_count": 107,
     "metadata": {},
     "output_type": "execute_result"
    },
    {
     "data": {
      "image/png": "[encoded data removed]",
      "text/plain": [
       "<Figure size 936x360 with 1 Axes>"
      ]
     },
     "metadata": {
      "needs_background": "light"
     },
     "output_type": "display_data"
    }
   ],
   "source": [
    "plt.figure(figsize =(13,5) )\n",
    "sns.countplot(x=\" Party Name\", data=df5)"
   ]
  },
  {
   "cell_type": "code",
   "execution_count": null,
   "metadata": {},
   "outputs": [],
   "source": []
  }
 ],
 "metadata": {
  "kernelspec": {
   "display_name": "Python 3",
   "language": "python",
   "name": "python3"
  },
  "language_info": {
   "codemirror_mode": {
    "name": "ipython",
    "version": 3
   },
   "file_extension": ".py",
   "mimetype": "text/x-python",
   "name": "python",
   "nbconvert_exporter": "python",
   "pygments_lexer": "ipython3",
   "version": "3.7.6"
  }
 },
 "nbformat": 4,
 "nbformat_minor": 4
}
